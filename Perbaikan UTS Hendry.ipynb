{
 "cells": [
  {
   "cell_type": "markdown",
   "id": "9c2c01f4",
   "metadata": {},
   "source": [
    "<h2>Perbaikan UTS</h2>\n",
    "    <h3>PG</h3>"
   ]
  },
  {
   "cell_type": "markdown",
   "id": "cabd29ae",
   "metadata": {},
   "source": [
    "1.Kriteria algoritma adalah memiliki instruksi yang jelas sehingga proses yang dikerjakan tidak ambigu dan membingungkan. Kriteria tersebut adalah \n",
    "\n",
    "\n",
    "A.Finitness\n",
    "\n",
    "<b>B.Definiteness</b>\n",
    "\n",
    "C.Effectiveness\n",
    "\n",
    "D.Exactly\n",
    "\n",
    "E.Unambiguous"
   ]
  },
  {
   "cell_type": "markdown",
   "id": "240add24",
   "metadata": {},
   "source": [
    "2.Berdasarkan flowchart yang ada pada file attachment, Output apakah yang dihasilkan, jika\n",
    "\n",
    "\n",
    "-umur diisi dengan angka 4\n",
    "\n",
    "-tinggi diisi dengan angka 70\n",
    "\n",
    "<b>A.Pengunjung dilarang naik wahana</b>\n",
    "\n",
    "B.27000\n",
    "\n",
    "C.36000\n",
    "\n",
    "D.45000\n",
    "\n",
    "E.47500"
   ]
  },
  {
   "cell_type": "markdown",
   "id": "c83d81ef",
   "metadata": {},
   "source": [
    "3.Jika terdapat pseudocode seperti berikut ini:\n",
    "\n",
    "program salary_counting\n",
    "\n",
    "declaration:\n",
    "   var salary, num_of_work_days, num_off_days, transport_allowance:integer\n",
    "   transport_allowance : 20000\n",
    "algorithm:\n",
    "  read(num_of_work_days,num_off_days); {input user} \n",
    "  salary -> num_of_work_days * 300000 - (num_off_days * transport_allowance)\n",
    "  salary -> salary - (num_off_days * 300000)\n",
    "  \n",
    "  write(salary)\n",
    "\n",
    "Output apakah yang ditampilkan jika num_of_work_days diisi dengan nilai 22 dan num_off_days diisi dengan 5\n",
    "\n",
    " \n",
    "\n",
    "A.-1500000\n",
    "\n",
    "B.3000000\n",
    "\n",
    "C.3500000\n",
    "\n",
    "<b>D.5000000</b>\n",
    "\n",
    "E.5900000"
   ]
  },
  {
   "cell_type": "markdown",
   "id": "db71f225",
   "metadata": {},
   "source": [
    "4.Pada saat menggunakan IDE Jupyter Notebooks, untuk membuat cell markdown dengan tulisan JUPYTER GOODBOOKS dibawah cell code yang masih dalam keadaan aktif yaitu dengan cara ...\n",
    "\n",
    "\n",
    "A.ESCAPE -> B -> M -> ENTER -> JUPYTER GOODBOOKS\n",
    "\n",
    "B.ESCAPE -> A -> M -> ENTER -> JUPYTER GOODBOOKS\n",
    "\n",
    "C.ESCAPE -> B -> C -> ENTER -> JUPYTER GOODBOOKS\n",
    "\n",
    "<b>D.ESCAPE -> M -> B -> ENTER -> JUPYTER GOODBOOKS</b>\n",
    "\n",
    "E.ESCAPE -> M -> A -> ENTER -> JUPYTER GOODBOOKS"
   ]
  },
  {
   "cell_type": "markdown",
   "id": "c38cb13e",
   "metadata": {},
   "source": [
    "5.Proses untuk mengidentifikasi sebuah folder agar dilakukan tracking menggunakan git adalah dengan menggunakan perintah \n",
    "\n",
    "\n",
    "A.git config\n",
    "\n",
    "B.git status\n",
    "\n",
    "<b>C.git init</b>\n",
    "\n",
    "D.git commit -m\n",
    "\n",
    "E.git push -u add origin master git_url"
   ]
  },
  {
   "cell_type": "markdown",
   "id": "f3f5a982",
   "metadata": {},
   "source": [
    "6.Berikut ini adalah aturan penamaan variabel yang tepat pada pemrograman python\n",
    "\n",
    "\n",
    "A.Nama variabel tidak boleh menggunakan underscore (_)\n",
    "\n",
    "B.Nama variabel tidak boleh menggunakan angka dan underscore(_)\n",
    "\n",
    "C.Nama variabel boleh menggunakan karakter @\n",
    "\n",
    "<b>D.Nama variabel hanya boleh diawali oleh huruf</b>\n",
    "\n",
    "E.Nama variabel hanya boleh diawali oleh huruf atau underscore."
   ]
  },
  {
   "cell_type": "markdown",
   "id": "c78ba6da",
   "metadata": {},
   "source": [
    "7.Output apakah yang dihasilkan, jika kode program seperti pada file attachment di eksekusi\n",
    "\n",
    "\n",
    "A.Error line 2\n",
    "\n",
    "B.Error line 3\n",
    "\n",
    "C.The book with the title 'My Programming is My Adventure' has a price 1000000\n",
    "\n",
    "D.The book with the title 'My Programming is My Adventure' has a price 1_000_000\n",
    "\n",
    "<b>E.Program tidak error dan tidak ada jawaban yang tepat</b>\n"
   ]
  },
  {
   "cell_type": "markdown",
   "id": "c2f89e57",
   "metadata": {},
   "source": [
    "8.Jika terdapat kode program seperti pada file attachment, baris manakah yang menjadi penyebab error?\n",
    "\n",
    "\n",
    "<b>A.3 dan 5</b>\n",
    "\n",
    "B.3 dan 4\n",
    "\n",
    "C.3\n",
    "\n",
    "D.4\n",
    "\n",
    "E.5"
   ]
  },
  {
   "cell_type": "markdown",
   "id": "2b951d9f",
   "metadata": {},
   "source": [
    "9.Output apakah yang ditampilkan pada kode program seperti pada file attachment\n",
    "\n",
    "\n",
    "A.1 True True True\n",
    "\n",
    "<b>B.0 True True True</b>\n",
    "\n",
    "C.0 True True False\n",
    "\n",
    "D.1 True True False\n",
    "\n",
    "E.0 True False True"
   ]
  },
  {
   "cell_type": "markdown",
   "id": "ec9d6984",
   "metadata": {},
   "source": [
    "10.Hasil output apakah yang dihasilkan jika terdapat angka dengan nilai = 255 kemudian dioperasikan AND dengan nilai = 15 ?\n",
    "\n",
    "\n",
    "<b>A.True</b>\n",
    "\n",
    "B.False\n",
    "\n",
    "C.15\n",
    "\n",
    "D.240\n",
    "\n",
    "E.270"
   ]
  },
  {
   "cell_type": "markdown",
   "id": "9ebe5ff9",
   "metadata": {},
   "source": [
    "11.Terdapat variabel seperti berikut ini:\n",
    "\n",
    "\n",
    "address = \"Jalan Cibolang Kaler Nomor 21\"\n",
    "\n",
    "jika output yang diinginkan adalah jC maka proses pada kode program manakah yang benar ?\n",
    "\n",
    "\n",
    "A.c1 = address[1].lower(); c2 = address[7] ; print(c0 + c1)\n",
    "\n",
    "B.address = address.lower();c1 = address[0]; c2 = address[6] ; print(c1 + c2)\n",
    "\n",
    "<b>C.address = address.upper();c1 = address[0].lower(); c2 = address[6].lower() ; print(c1 + c2)</b>\n",
    "\n",
    "D.c1 = address[0].lower(); c2 = address[6] ; print(c1 + c2)\n",
    "\n",
    "E.address = address.lower();c1 = address[0].lower(); c2 = address[6] ; print(c1 + c2)"
   ]
  },
  {
   "cell_type": "markdown",
   "id": "78559a38",
   "metadata": {},
   "source": [
    "12.Setiap kondisi yang dilakukan pengecekan pada percabangan, pasti akan berisikan operator ...\n",
    " \n",
    "\n",
    "<b>A.Aritmatika</b>\n",
    "\n",
    "B.Perbandingan\n",
    "\n",
    "C.Penugasan\n",
    "\n",
    "D.Bitwise\n",
    "\n",
    "E.Penjumlahan"
   ]
  },
  {
   "cell_type": "markdown",
   "id": "12a0e129",
   "metadata": {},
   "source": [
    "13.Manakah pernyataan berikut ini yang paling tepat?\n",
    "\n",
    "\n",
    "<b>A.kode if selalu berpasangan dengan elif</b>\n",
    "\n",
    "B.kode elif tidak harus selalu ada if diawal kondisi percabangan\n",
    "\n",
    "C.kode if boleh diletakkan di dalam if dengan menggunakan indentasi/TAB\n",
    "\n",
    "D.statement yang akan dieksekusi ketika kondisi percabangan terpenuhi (True) tidak harus menggunakan indentasi/TAB\n",
    "\n",
    "E.Indentasi/TAB digunakan hanya untuk perulangan"
   ]
  },
  {
   "cell_type": "markdown",
   "id": "7d187896",
   "metadata": {},
   "source": [
    "14.Output apakah yang ditampilkan jika kode program seperti pada file attachment dieksekusi?\n",
    "\n",
    "\n",
    "<b>A.winger defender keeper</b>\n",
    "\n",
    "B.playmaker defender keeper\n",
    "\n",
    "C.playmaker attacker\n",
    "\n",
    "D.winger defender\n",
    "\n",
    "E.playmaker attacker defender"
   ]
  },
  {
   "cell_type": "markdown",
   "id": "9e36c49a",
   "metadata": {},
   "source": [
    "15.Jika output kode program pada file attachment yang diinginkan adalah winger defender , maka nilai dari number_of_player diganti dengan\n",
    "\n",
    "\n",
    "<b>A.20</b>\n",
    "\n",
    "B.30\n",
    "\n",
    "C.50\n",
    "\n",
    "D.70\n",
    "\n",
    "E.80"
   ]
  },
  {
   "cell_type": "markdown",
   "id": "9dcf250d",
   "metadata": {},
   "source": [
    "16.Looping for digunakan pada saat ..\n",
    "\n",
    "\n",
    "A.Terdapat statement yang akan dijalankan secara berulang-ulang\n",
    "\n",
    "<b>B.Permasalahan perulangan telah diketahui batas awal dan batas akhirnya</b>\n",
    "\n",
    "C.Permasalahan perulangan tidak diketahui batas awal dan batas akhirnya\n",
    "\n",
    "D.Terdapat kenaikan nilai per step/tahap\n",
    "\n",
    "E.Permasalahan perulangan yang sederhana"
   ]
  },
  {
   "cell_type": "markdown",
   "id": "024baecd",
   "metadata": {},
   "source": [
    "17.Ciri-ciri dari looping while adalah ...\n",
    "\n",
    "\n",
    "A.Terdapat inisialisasi nilai pada blok kode perulangan\n",
    "\n",
    "B.Terdapat proses increment\n",
    "\n",
    "C.Terdapat proses decrement\n",
    "\n",
    "D.Terdapat statement yang akan mengubah nilai kondisi pada while menjadi False\n",
    "\n",
    "<b>E.Tidak ada jawaban yang tepat</b>"
   ]
  },
  {
   "cell_type": "markdown",
   "id": "f55d0fe6",
   "metadata": {},
   "source": [
    "18.Output apakah yang dihasilkan, jika kode program seperti pada file attachment dieksekusi\n",
    "\n",
    "\n",
    "<b>A.20</b>\n",
    "\n",
    "B.50 40 30\n",
    "\n",
    "C.50 40 30 20\n",
    "\n",
    "D.50 40 30 20 10\n",
    "\n",
    "E.Error Program"
   ]
  },
  {
   "cell_type": "markdown",
   "id": "69ef475a",
   "metadata": {},
   "source": [
    "19.Output apakah yang dihasilkan, jika kode program seperti pada file attachment dieksekusi\n",
    "\n",
    "\n",
    "A.1 9\n",
    "\n",
    "B.5\n",
    "\n",
    "C.1 3 9\n",
    "\n",
    "<b>D.5 35</b>\n",
    "\n",
    "E.1 15 45"
   ]
  },
  {
   "cell_type": "markdown",
   "id": "6b70fca6",
   "metadata": {},
   "source": [
    "20.Jika terdapat kode program seperti pada file attachment\n",
    "\n",
    "\n",
    "Output apakah yang dihasilkan, jika kode program tersebut dieksekusi?\n",
    "\n",
    "\n",
    "A.-1 -2 -3 -4 -5 -6 -7 -8 -9 -10\n",
    "\n",
    "B.10 9 8 7 6 5 4 3 2 1\n",
    "\n",
    "C.-1 2 -3 4 -5 6 -7 8 -9 10\n",
    "\n",
    "D.Tidak ada output yang ditampilkan\n",
    "\n",
    "<b>E.Program akan menampilkan nilai yang berkurang 1 terus menerus tak hingga (infinite loop</b>"
   ]
  },
  {
   "cell_type": "markdown",
   "id": "f7715c09",
   "metadata": {},
   "source": [
    "<h2>Essay</h2>"
   ]
  },
  {
   "cell_type": "markdown",
   "id": "a9b18d5d",
   "metadata": {},
   "source": [
    "1. Buatlah program untuk mengecek bahwa sebuah email termasuk valid atau tidak . Valid diartikan True dan tidak valid diartikan False. Program dibuat dengan menggunakan string method tanpa condition (if) . Berikut contoh test case yang bisa digunakan sebagai acuan:\n",
    "\n",
    "input : alunsujjada@gmailcom\n",
    "output : False\n",
    "------------------------------------------\n",
    "input : alunsujjada@gmail.com\n",
    "output : True\n",
    "------------------------------------------\n",
    "input : alun.sujjada@gmail.com\n",
    "output : False\n",
    "------------------------------------------\n",
    "input : alunsujjada.gmail.com\n",
    "output : False\n",
    "------------------------------------------\n",
    "input : alun.sujjada@gmailcom\n",
    "output : False\n",
    "\n",
    "Clue : Gunakan pencarian posisi"
   ]
  },
  {
   "cell_type": "code",
   "execution_count": 9,
   "id": "213573bd",
   "metadata": {},
   "outputs": [
    {
     "name": "stdout",
     "output_type": "stream",
     "text": [
      "masukan email andahendriramadhan06@gmail.com\n",
      "True\n"
     ]
    }
   ],
   "source": [
    "email = input(\"masukan email anda\")\n",
    "\n",
    "post_at = email.find('@')\n",
    "post_dot = email.find('.')\n",
    "\n",
    "print(post_at < post_dot)"
   ]
  },
  {
   "cell_type": "markdown",
   "id": "042447f3",
   "metadata": {},
   "source": [
    "2.Buatlah program dengan menggunakan kondisi perulangan dan percabangan untuk melakukan penyandian huruf pada sebuah kalimat yaitu dengan ketentuan sebagai berikut \n",
    "\n",
    "mengganti huruf a atau A dengan 4\n",
    "mengganti huruf e atau E dengan 3\n",
    "mengganti huruf L dengan 7\n",
    "mengganti huruf S dengan 5\n",
    "Contoh :\n",
    "input : BELAJAR Pemrograman Python Sangat Mudah sekali\n",
    "output : B374J4R P3mrogr4m4n Python 54ng4t Mud4h s3k4li\n",
    "\n",
    "input : Looping For digunakan ketika sudah diketahui batas Awal dan Batas Akhir\n",
    "output : 7ooping For digun4k4n k3tik4 sud4h dik3t4hui b4t4s 4w4l d4n B4t4s 4khir"
   ]
  },
  {
   "cell_type": "code",
   "execution_count": 2,
   "id": "bb39aff3",
   "metadata": {},
   "outputs": [
    {
     "name": "stdout",
     "output_type": "stream",
     "text": [
      "isikan kalimat anda : Muhamad Hendry Irawan Ramadhan\n",
      "Muh4m4d Hendry Ir4w4n R4m4dh4n\n"
     ]
    }
   ],
   "source": [
    "kalimat = input('isikan kalimat anda : ')\n",
    "sandi =''\n",
    "for i in range(len(kalimat)):\n",
    "    if kalimat[i] == 'a' or kalimat[i]=='A':\n",
    "        sandi = sandi + '4'\n",
    "    else:\n",
    "        sandi = sandi + kalimat[i]\n",
    "        \n",
    "print(sandi)"
   ]
  }
 ],
 "metadata": {
  "kernelspec": {
   "display_name": "Python 3 (ipykernel)",
   "language": "python",
   "name": "python3"
  },
  "language_info": {
   "codemirror_mode": {
    "name": "ipython",
    "version": 3
   },
   "file_extension": ".py",
   "mimetype": "text/x-python",
   "name": "python",
   "nbconvert_exporter": "python",
   "pygments_lexer": "ipython3",
   "version": "3.9.12"
  }
 },
 "nbformat": 4,
 "nbformat_minor": 5
}
